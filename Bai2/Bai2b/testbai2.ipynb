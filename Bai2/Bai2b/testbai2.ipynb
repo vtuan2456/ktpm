{
 "cells": [
  {
   "cell_type": "code",
   "execution_count": 26,
   "id": "f4ada0bd",
   "metadata": {},
   "outputs": [
    {
     "name": "stdout",
     "output_type": "stream",
     "text": [
      "Overwriting test1.inp\n"
     ]
    }
   ],
   "source": [
    "%%writefile test1.inp\n",
    "11"
   ]
  },
  {
   "cell_type": "code",
   "execution_count": 27,
   "id": "1e8fbe5d",
   "metadata": {},
   "outputs": [
    {
     "name": "stdout",
     "output_type": "stream",
     "text": [
      "Expected: 22\n",
      "22\n"
     ]
    }
   ],
   "source": [
    "!g++ bai2.cpp -o bai2\n",
    "!./bai2 <test1.inp >out1.txt\n",
    "!echo \"Expected: 22\"\n",
    "!cat out1.txt\n"
   ]
  },
  {
   "cell_type": "code",
   "execution_count": 28,
   "id": "1257c9a3",
   "metadata": {},
   "outputs": [
    {
     "name": "stdout",
     "output_type": "stream",
     "text": [
      "Overwriting test2.inp\n"
     ]
    }
   ],
   "source": [
    "%%writefile test2.inp\n",
    "0"
   ]
  },
  {
   "cell_type": "code",
   "execution_count": 29,
   "id": "a413f367",
   "metadata": {},
   "outputs": [
    {
     "name": "stdout",
     "output_type": "stream",
     "text": [
      "Expected: 0\n",
      "0\n"
     ]
    }
   ],
   "source": [
    "!g++ bai2.cpp -o bai2\n",
    "!./bai2 <test2.inp >out2.txt\n",
    "!echo \"Expected: 0\"\n",
    "!cat out2.txt\n"
   ]
  },
  {
   "cell_type": "code",
   "execution_count": 30,
   "id": "068901b5",
   "metadata": {},
   "outputs": [
    {
     "name": "stdout",
     "output_type": "stream",
     "text": [
      "Expected: -9\n",
      "-9\n"
     ]
    }
   ],
   "source": [
    "!g++ bai2.cpp -o bai2\n",
    "!./bai2 <test3.inp >out3.txt\n",
    "!echo \"Expected: -9\"\n",
    "!cat out3.txt"
   ]
  },
  {
   "cell_type": "code",
   "execution_count": 31,
   "id": "94f07ea5",
   "metadata": {},
   "outputs": [
    {
     "name": "stdout",
     "output_type": "stream",
     "text": [
      "Overwriting test3.inp\n"
     ]
    }
   ],
   "source": [
    "%%writefile test3.inp\n",
    "9"
   ]
  }
 ],
 "metadata": {
  "kernelspec": {
   "display_name": "Python 3",
   "language": "python",
   "name": "python3"
  },
  "language_info": {
   "codemirror_mode": {
    "name": "ipython",
    "version": 3
   },
   "file_extension": ".py",
   "mimetype": "text/x-python",
   "name": "python",
   "nbconvert_exporter": "python",
   "pygments_lexer": "ipython3",
   "version": "3.12.1"
  }
 },
 "nbformat": 4,
 "nbformat_minor": 5
}
