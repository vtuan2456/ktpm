{
 "cells": [
  {
   "cell_type": "code",
   "execution_count": 5,
   "id": "fbaafa02",
   "metadata": {},
   "outputs": [
    {
     "name": "stdout",
     "output_type": "stream",
     "text": [
      "Overwriting test1.inp\n"
     ]
    }
   ],
   "source": [
    "%%writefile test1.inp\n",
    "5 3 1"
   ]
  },
  {
   "cell_type": "code",
   "execution_count": null,
   "id": "4e3b5149",
   "metadata": {},
   "outputs": [],
   "source": []
  },
  {
   "cell_type": "code",
   "execution_count": 6,
   "id": "3524b6cd",
   "metadata": {},
   "outputs": [
    {
     "name": "stdout",
     "output_type": "stream",
     "text": [
      "Expected: 5\n",
      "5\n"
     ]
    }
   ],
   "source": [
    "!g++ bai2.cpp -o bai2\n",
    "!./bai2 <test1.inp >out1.txt\n",
    "!echo \"Expected: 5\"\n",
    "!cat out1.txt"
   ]
  },
  {
   "cell_type": "code",
   "execution_count": 7,
   "id": "249b8967",
   "metadata": {},
   "outputs": [
    {
     "name": "stdout",
     "output_type": "stream",
     "text": [
      "Overwriting test2.inp\n"
     ]
    }
   ],
   "source": [
    "%%writefile test2.inp\n",
    "3 5 1"
   ]
  },
  {
   "cell_type": "code",
   "execution_count": 8,
   "id": "5f138bcd",
   "metadata": {},
   "outputs": [
    {
     "name": "stdout",
     "output_type": "stream",
     "text": [
      "Expected: 5\n",
      "5\n"
     ]
    }
   ],
   "source": [
    "!g++ bai2.cpp -o bai2\n",
    "!./bai2 <test2.inp >out2.txt\n",
    "!echo \"Expected: 5\"\n",
    "!cat out2.txt"
   ]
  },
  {
   "cell_type": "code",
   "execution_count": 9,
   "id": "1ade072a",
   "metadata": {},
   "outputs": [
    {
     "name": "stdout",
     "output_type": "stream",
     "text": [
      "Expected: 6\n",
      "6\n"
     ]
    }
   ],
   "source": [
    "!g++ bai2.cpp -o bai2\n",
    "!./bai2 <test3.inp >out3.txt\n",
    "!echo \"Expected: 6\"\n",
    "!cat out3.txt"
   ]
  },
  {
   "cell_type": "code",
   "execution_count": 10,
   "id": "ef3b5144",
   "metadata": {},
   "outputs": [
    {
     "name": "stdout",
     "output_type": "stream",
     "text": [
      "Expected: 0\n",
      "0\n"
     ]
    }
   ],
   "source": [
    "!g++ bai2.cpp -o bai2\n",
    "!./bai2 <test4.inp >out4.txt\n",
    "!echo \"Expected: 0\"\n",
    "!cat out4.txt"
   ]
  },
  {
   "cell_type": "code",
   "execution_count": 11,
   "id": "93aa0603",
   "metadata": {},
   "outputs": [
    {
     "name": "stdout",
     "output_type": "stream",
     "text": [
      "Expected: 0\n",
      "0\n"
     ]
    }
   ],
   "source": [
    "!g++ bai2.cpp -o bai2\n",
    "!./bai2 <test5.inp >out5.txt\n",
    "!echo \"Expected: 0\"\n",
    "!cat out5.txt"
   ]
  },
  {
   "cell_type": "code",
   "execution_count": 12,
   "id": "5f30ed5d",
   "metadata": {},
   "outputs": [
    {
     "name": "stdout",
     "output_type": "stream",
     "text": [
      "Expected: 0\n",
      "0\n"
     ]
    }
   ],
   "source": [
    "!g++ bai2.cpp -o bai2\n",
    "!./bai2 <test6.inp >out6.txt\n",
    "!echo \"Expected: 0\"\n",
    "!cat out6.txt"
   ]
  },
  {
   "cell_type": "code",
   "execution_count": 13,
   "id": "7c234822",
   "metadata": {},
   "outputs": [
    {
     "name": "stdout",
     "output_type": "stream",
     "text": [
      "Expected: 0\n",
      "0\n"
     ]
    }
   ],
   "source": [
    "!g++ bai2.cpp -o bai2\n",
    "!./bai2 <test7.inp >out7.txt\n",
    "!echo \"Expected: 0\"\n",
    "!cat out7.txt"
   ]
  },
  {
   "cell_type": "code",
   "execution_count": 14,
   "id": "8ded4ef3",
   "metadata": {},
   "outputs": [
    {
     "name": "stdout",
     "output_type": "stream",
     "text": [
      "Overwriting test3.inp\n"
     ]
    }
   ],
   "source": [
    "%%writefile test3.inp\n",
    "1 2 6"
   ]
  },
  {
   "cell_type": "code",
   "execution_count": 15,
   "id": "bb187d30",
   "metadata": {},
   "outputs": [
    {
     "name": "stdout",
     "output_type": "stream",
     "text": [
      "Overwriting test4.inp\n"
     ]
    }
   ],
   "source": [
    "%%writefile test4.inp\n",
    "3 3 3"
   ]
  },
  {
   "cell_type": "code",
   "execution_count": 16,
   "id": "8b66ca8a",
   "metadata": {},
   "outputs": [
    {
     "name": "stdout",
     "output_type": "stream",
     "text": [
      "Overwriting test5.inp\n"
     ]
    }
   ],
   "source": [
    "%%writefile test5.inp\n",
    "9 2 9"
   ]
  },
  {
   "cell_type": "code",
   "execution_count": 17,
   "id": "476022fe",
   "metadata": {},
   "outputs": [
    {
     "name": "stdout",
     "output_type": "stream",
     "text": [
      "Overwriting test6.inp\n"
     ]
    }
   ],
   "source": [
    "%%writefile test6.inp\n",
    "2 7 7 "
   ]
  },
  {
   "cell_type": "code",
   "execution_count": 18,
   "id": "6cb599aa",
   "metadata": {},
   "outputs": [
    {
     "name": "stdout",
     "output_type": "stream",
     "text": [
      "Overwriting test7.inp\n"
     ]
    }
   ],
   "source": [
    "%%writefile test7.inp\n",
    "8 8 2"
   ]
  }
 ],
 "metadata": {
  "kernelspec": {
   "display_name": "Python 3",
   "language": "python",
   "name": "python3"
  },
  "language_info": {
   "codemirror_mode": {
    "name": "ipython",
    "version": 3
   },
   "file_extension": ".py",
   "mimetype": "text/x-python",
   "name": "python",
   "nbconvert_exporter": "python",
   "pygments_lexer": "ipython3",
   "version": "3.12.1"
  }
 },
 "nbformat": 4,
 "nbformat_minor": 5
}
