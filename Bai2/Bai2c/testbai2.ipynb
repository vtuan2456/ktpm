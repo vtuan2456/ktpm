{
 "cells": [
  {
   "cell_type": "code",
   "execution_count": 2,
   "id": "45876b2c",
   "metadata": {},
   "outputs": [
    {
     "name": "stdout",
     "output_type": "stream",
     "text": [
      "Overwriting test1.inp\n"
     ]
    }
   ],
   "source": [
    "%%writefile test1.inp\n",
    "9"
   ]
  },
  {
   "cell_type": "code",
   "execution_count": 3,
   "id": "816000a5",
   "metadata": {},
   "outputs": [
    {
     "name": "stdout",
     "output_type": "stream",
     "text": [
      "Expected: 18\n",
      "18\n"
     ]
    }
   ],
   "source": [
    "!g++ bai2.cpp -o bai2\n",
    "!./bai2 <test1.inp >out1.txt\n",
    "!echo \"Expected: 18\"\n",
    "!cat out1.txt\n"
   ]
  },
  {
   "cell_type": "code",
   "execution_count": 4,
   "id": "b6e11aaa",
   "metadata": {},
   "outputs": [
    {
     "name": "stdout",
     "output_type": "stream",
     "text": [
      "Expected: 30\n",
      "20\n"
     ]
    }
   ],
   "source": [
    "!g++ bai2.cpp -o bai2\n",
    "!./bai2 <test2.inp >out2.txt\n",
    "!echo \"Expected: 30\"\n",
    "!cat out2.txt"
   ]
  },
  {
   "cell_type": "code",
   "execution_count": 5,
   "id": "07f1f440",
   "metadata": {},
   "outputs": [
    {
     "name": "stdout",
     "output_type": "stream",
     "text": [
      "Overwriting test2.inp\n"
     ]
    }
   ],
   "source": [
    "%%writefile test2.inp\n",
    "15"
   ]
  }
 ],
 "metadata": {
  "kernelspec": {
   "display_name": "Python 3",
   "language": "python",
   "name": "python3"
  },
  "language_info": {
   "codemirror_mode": {
    "name": "ipython",
    "version": 3
   },
   "file_extension": ".py",
   "mimetype": "text/x-python",
   "name": "python",
   "nbconvert_exporter": "python",
   "pygments_lexer": "ipython3",
   "version": "3.12.1"
  }
 },
 "nbformat": 4,
 "nbformat_minor": 5
}
