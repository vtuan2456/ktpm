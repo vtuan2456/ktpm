{
 "cells": [
  {
   "cell_type": "code",
   "execution_count": 12,
   "id": "fbaafa02",
   "metadata": {},
   "outputs": [
    {
     "name": "stdout",
     "output_type": "stream",
     "text": [
      "Overwriting test1.inp\n"
     ]
    }
   ],
   "source": [
    "%%writefile test1.inp\n",
    "0 0 0"
   ]
  },
  {
   "cell_type": "code",
   "execution_count": 14,
   "id": "3524b6cd",
   "metadata": {},
   "outputs": [
    {
     "name": "stdout",
     "output_type": "stream",
     "text": [
      "Expected:  Infinite solutions\n",
      " Infinite solutions.\n"
     ]
    }
   ],
   "source": [
    "!g++ bai3.cpp -o bai3\n",
    "!./bai3 <test1.inp >out1.txt\n",
    "!echo \"Expected:  Infinite solutions\"\n",
    "!cat out1.txt"
   ]
  },
  {
   "cell_type": "code",
   "execution_count": 15,
   "id": "249b8967",
   "metadata": {},
   "outputs": [
    {
     "name": "stdout",
     "output_type": "stream",
     "text": [
      "Overwriting test2.inp\n"
     ]
    }
   ],
   "source": [
    "%%writefile test2.inp\n",
    "0 0 4"
   ]
  },
  {
   "cell_type": "code",
   "execution_count": null,
   "id": "5f138bcd",
   "metadata": {},
   "outputs": [
    {
     "name": "stdout",
     "output_type": "stream",
     "text": [
      "Expected: 4\n",
      "No solution.\n"
     ]
    }
   ],
   "source": [
    "!g++ bai3.cpp -o bai3\n",
    "!./bai3 <test2.inp >out2.txt\n",
    "!echo \"Expected: No solution.\"\n",
    "!cat out2.txt"
   ]
  },
  {
   "cell_type": "code",
   "execution_count": null,
   "id": "535b1386",
   "metadata": {},
   "outputs": [
    {
     "name": "stdout",
     "output_type": "stream",
     "text": [
      "Overwriting test3.inp\n"
     ]
    }
   ],
   "source": [
    "%%writefile test3.inp\n",
    "0 1 1"
   ]
  },
  {
   "cell_type": "code",
   "execution_count": 17,
   "id": "1ade072a",
   "metadata": {},
   "outputs": [
    {
     "name": "stdout",
     "output_type": "stream",
     "text": [
      "Expected: No solution.\n",
      "No solution.\n"
     ]
    }
   ],
   "source": [
    "!g++ bai3.cpp -o bai3\n",
    "!./bai3 <test3.inp >out3.txt\n",
    "!echo \"Expected: No solution.\"\n",
    "!cat out3.txt"
   ]
  },
  {
   "cell_type": "code",
   "execution_count": null,
   "id": "95d00fad",
   "metadata": {},
   "outputs": [
    {
     "name": "stdout",
     "output_type": "stream",
     "text": [
      "Overwriting test4.inp\n"
     ]
    }
   ],
   "source": [
    "%%writefile test4.inp\n",
    "0 1 -4"
   ]
  },
  {
   "cell_type": "code",
   "execution_count": 18,
   "id": "ef3b5144",
   "metadata": {},
   "outputs": [
    {
     "name": "stdout",
     "output_type": "stream",
     "text": [
      "Expected: No solution.\n",
      "No solution.\n"
     ]
    }
   ],
   "source": [
    "!g++ bai3.cpp -o bai3\n",
    "!./bai3 <test4.inp >out4.txt\n",
    "!echo \"Expected: No solution.\"\n",
    "!cat out4.txt"
   ]
  },
  {
   "cell_type": "code",
   "execution_count": 19,
   "id": "c9e7f23f",
   "metadata": {},
   "outputs": [
    {
     "name": "stdout",
     "output_type": "stream",
     "text": [
      "Overwriting test5.inp\n"
     ]
    }
   ],
   "source": [
    "%%writefile test5.inp\n",
    "1 0 1"
   ]
  },
  {
   "cell_type": "code",
   "execution_count": 21,
   "id": "93aa0603",
   "metadata": {},
   "outputs": [
    {
     "name": "stdout",
     "output_type": "stream",
     "text": [
      "Expected: No solution.\n",
      "No solution.\n"
     ]
    }
   ],
   "source": [
    "!g++ bai3.cpp -o bai3\n",
    "!./bai3 <test5.inp >out5.txt\n",
    "!echo \"Expected: No solution.\"\n",
    "!cat out5.txt"
   ]
  },
  {
   "cell_type": "code",
   "execution_count": 22,
   "id": "009ca5e0",
   "metadata": {},
   "outputs": [
    {
     "name": "stdout",
     "output_type": "stream",
     "text": [
      "Overwriting test6.inp\n"
     ]
    }
   ],
   "source": [
    "%%writefile test6.inp\n",
    "1 2 2"
   ]
  },
  {
   "cell_type": "code",
   "execution_count": 24,
   "id": "5f30ed5d",
   "metadata": {},
   "outputs": [
    {
     "name": "stdout",
     "output_type": "stream",
     "text": [
      "Expected: No solution.\n",
      "No solution.\n"
     ]
    }
   ],
   "source": [
    "!g++ bai3.cpp -o bai3\n",
    "!./bai3 <test6.inp >out6.txt\n",
    "!echo \"Expected: No solution.\"\n",
    "!cat out6.txt"
   ]
  },
  {
   "cell_type": "code",
   "execution_count": 25,
   "id": "420120ce",
   "metadata": {},
   "outputs": [
    {
     "name": "stdout",
     "output_type": "stream",
     "text": [
      "Overwriting test7.inp\n"
     ]
    }
   ],
   "source": [
    "%%writefile test7.inp\n",
    "1 2 -3"
   ]
  },
  {
   "cell_type": "code",
   "execution_count": null,
   "id": "7c234822",
   "metadata": {},
   "outputs": [
    {
     "name": "stdout",
     "output_type": "stream",
     "text": [
      "Expected: No solution.\n",
      " The equation has 2 real solution(s): 1 -1 \n"
     ]
    }
   ],
   "source": [
    "!g++ bai3.cpp -o bai3\n",
    "!./bai3 <test7.inp >out7.txt\n",
    "!echo \"Expected: 1 -1\"\n",
    "!cat out7.txt"
   ]
  },
  {
   "cell_type": "code",
   "execution_count": 29,
   "id": "2572d222",
   "metadata": {},
   "outputs": [
    {
     "name": "stdout",
     "output_type": "stream",
     "text": [
      "Overwriting test8.inp\n"
     ]
    }
   ],
   "source": [
    "%%writefile test8.inp\n",
    "1 -5 4"
   ]
  },
  {
   "cell_type": "code",
   "execution_count": 30,
   "id": "0f7353b3",
   "metadata": {},
   "outputs": [
    {
     "name": "stdout",
     "output_type": "stream",
     "text": [
      "Expected: 2 -2 1 -1\n",
      " The equation has 4 real solution(s): 2 -2 1 -1 \n"
     ]
    }
   ],
   "source": [
    "!g++ bai3.cpp -o bai3\n",
    "!./bai3 <test8.inp >out8.txt\n",
    "!echo \"Expected: 2 -2 1 -1\"\n",
    "!cat out8.txt"
   ]
  }
 ],
 "metadata": {
  "kernelspec": {
   "display_name": "Python 3",
   "language": "python",
   "name": "python3"
  },
  "language_info": {
   "codemirror_mode": {
    "name": "ipython",
    "version": 3
   },
   "file_extension": ".py",
   "mimetype": "text/x-python",
   "name": "python",
   "nbconvert_exporter": "python",
   "pygments_lexer": "ipython3",
   "version": "3.12.1"
  }
 },
 "nbformat": 4,
 "nbformat_minor": 5
}
