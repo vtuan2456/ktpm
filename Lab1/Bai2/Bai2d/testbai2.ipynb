{
 "cells": [
  {
   "cell_type": "code",
   "execution_count": 8,
   "id": "fbaafa02",
   "metadata": {},
   "outputs": [
    {
     "name": "stdout",
     "output_type": "stream",
     "text": [
      "Overwriting test1.inp\n"
     ]
    }
   ],
   "source": [
    "%%writefile test1.inp\n",
    "1"
   ]
  },
  {
   "cell_type": "code",
   "execution_count": 9,
   "id": "3524b6cd",
   "metadata": {},
   "outputs": [
    {
     "name": "stdout",
     "output_type": "stream",
     "text": [
      "Expected: 2\n",
      "2\n"
     ]
    }
   ],
   "source": [
    "!g++ bai2.cpp -o bai2\n",
    "!./bai2 <test1.inp >out1.txt\n",
    "!echo \"Expected: 2\"\n",
    "!cat out1.txt"
   ]
  },
  {
   "cell_type": "code",
   "execution_count": 10,
   "id": "249b8967",
   "metadata": {},
   "outputs": [
    {
     "name": "stdout",
     "output_type": "stream",
     "text": [
      "Overwriting test2.inp\n"
     ]
    }
   ],
   "source": [
    "%%writefile test2.inp\n",
    "5"
   ]
  },
  {
   "cell_type": "code",
   "execution_count": 11,
   "id": "5f138bcd",
   "metadata": {},
   "outputs": [
    {
     "name": "stdout",
     "output_type": "stream",
     "text": [
      "Expected: 10\n",
      "10\n"
     ]
    }
   ],
   "source": [
    "!g++ bai2.cpp -o bai2\n",
    "!./bai2 <test2.inp >out2.txt\n",
    "!echo \"Expected: 10\"\n",
    "!cat out2.txt"
   ]
  }
 ],
 "metadata": {
  "kernelspec": {
   "display_name": "Python 3",
   "language": "python",
   "name": "python3"
  },
  "language_info": {
   "codemirror_mode": {
    "name": "ipython",
    "version": 3
   },
   "file_extension": ".py",
   "mimetype": "text/x-python",
   "name": "python",
   "nbconvert_exporter": "python",
   "pygments_lexer": "ipython3",
   "version": "3.12.1"
  }
 },
 "nbformat": 4,
 "nbformat_minor": 5
}
