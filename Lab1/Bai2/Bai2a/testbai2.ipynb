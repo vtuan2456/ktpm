{
 "cells": [
  {
   "cell_type": "code",
   "execution_count": 1,
   "id": "f4ada0bd",
   "metadata": {},
   "outputs": [
    {
     "name": "stdout",
     "output_type": "stream",
     "text": [
      "Overwriting bai2.inp\n"
     ]
    }
   ],
   "source": [
    "%%writefile bai2.inp\n",
    "10"
   ]
  },
  {
   "cell_type": "code",
   "execution_count": 4,
   "id": "ccbc23f1",
   "metadata": {},
   "outputs": [
    {
     "name": "stdout",
     "output_type": "stream",
     "text": [
      "Overwriting bai2a.inp\n"
     ]
    }
   ],
   "source": [
    "%%writefile bai2a.inp\n",
    "11\n"
   ]
  },
  {
   "cell_type": "code",
   "execution_count": 3,
   "id": "1e8fbe5d",
   "metadata": {},
   "outputs": [
    {
     "name": "stdout",
     "output_type": "stream",
     "text": [
      "Expected: -10\n",
      "-10\n"
     ]
    }
   ],
   "source": [
    "!g++ bai2.cpp -o bai2\n",
    "!./bai2 <bai2.inp >out2.txt\n",
    "!echo \"Expected: -10\"\n",
    "!cat out2.txt"
   ]
  },
  {
   "cell_type": "code",
   "execution_count": 5,
   "id": "1257c9a3",
   "metadata": {},
   "outputs": [
    {
     "name": "stdout",
     "output_type": "stream",
     "text": [
      "Expected: 22\n",
      "22\n"
     ]
    }
   ],
   "source": [
    "!g++ bai2.cpp -o bai2\n",
    "!./bai2 <bai2a.inp >out2a.txt\n",
    "!echo \"Expected: 22\"\n",
    "!cat out2a.txt"
   ]
  }
 ],
 "metadata": {
  "kernelspec": {
   "display_name": "Python 3",
   "language": "python",
   "name": "python3"
  },
  "language_info": {
   "codemirror_mode": {
    "name": "ipython",
    "version": 3
   },
   "file_extension": ".py",
   "mimetype": "text/x-python",
   "name": "python",
   "nbconvert_exporter": "python",
   "pygments_lexer": "ipython3",
   "version": "3.12.1"
  }
 },
 "nbformat": 4,
 "nbformat_minor": 5
}
