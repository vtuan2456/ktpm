{
 "cells": [
  {
   "cell_type": "code",
   "execution_count": 5,
   "id": "c19eb8e0",
   "metadata": {},
   "outputs": [
    {
     "name": "stdout",
     "output_type": "stream",
     "text": [
      "Overwriting bai1.inp\n"
     ]
    }
   ],
   "source": [
    "%%writefile bai1.inp\n",
    "10"
   ]
  },
  {
   "cell_type": "code",
   "execution_count": 7,
   "id": "318c9601",
   "metadata": {},
   "outputs": [
    {
     "name": "stdout",
     "output_type": "stream",
     "text": [
      "Expected: -10\n",
      "-10\n"
     ]
    }
   ],
   "source": [
    "!g++ bai1.cpp -o bai1\n",
    "!./bai1 <bai1.inp >out1.txt\n",
    "!echo \"Expected: -10\"\n",
    "!cat out1.txt"
   ]
  }
 ],
 "metadata": {
  "kernelspec": {
   "display_name": "Python 3",
   "language": "python",
   "name": "python3"
  },
  "language_info": {
   "codemirror_mode": {
    "name": "ipython",
    "version": 3
   },
   "file_extension": ".py",
   "mimetype": "text/x-python",
   "name": "python",
   "nbconvert_exporter": "python",
   "pygments_lexer": "ipython3",
   "version": "3.12.1"
  }
 },
 "nbformat": 4,
 "nbformat_minor": 5
}
